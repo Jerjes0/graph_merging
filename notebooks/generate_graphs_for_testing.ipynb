{
 "cells": [
  {
   "cell_type": "code",
   "execution_count": 1,
   "metadata": {},
   "outputs": [
    {
     "name": "stderr",
     "output_type": "stream",
     "text": [
      "/opt/homebrew/Caskroom/miniconda/base/envs/graph_merging/lib/python3.10/site-packages/requests/__init__.py:86: RequestsDependencyWarning: Unable to find acceptable character detection dependency (chardet or charset_normalizer).\n",
      "  warnings.warn(\n"
     ]
    }
   ],
   "source": [
    "# Import necessary libraries\n",
    "import numpy as np\n",
    "import pandas as pd\n",
    "import networkx as nx\n",
    "import matplotlib.pyplot as plt\n",
    "import seaborn as sns\n",
    "from tqdm import tqdm\n",
    "# Set random seed for reproducibility\n",
    "np.random.seed(42)\n",
    "\n",
    "# Import the DataGenerator class\n",
    "import sys\n",
    "sys.path.append('..')  # Add the parent directory to the Python path\n",
    "from src.dummy_data import DataGenerator"
   ]
  },
  {
   "cell_type": "code",
   "execution_count": 2,
   "metadata": {},
   "outputs": [],
   "source": [
    "key=None\n",
    "generator = DataGenerator(api_key=key)"
   ]
  },
  {
   "cell_type": "code",
   "execution_count": 3,
   "metadata": {},
   "outputs": [],
   "source": [
    "## Read the concepts\n",
    "#\n",
    "with open(\"../data/txt/cognitive_neuroscience_concepts.txt\", \"r\") as f:\n",
    "    concepts = eval(f.read())"
   ]
  },
  {
   "cell_type": "code",
   "execution_count": 5,
   "metadata": {},
   "outputs": [
    {
     "name": "stderr",
     "output_type": "stream",
     "text": [
      " 17%|█▋        | 5/30 [00:40<04:09, 10.00s/it]"
     ]
    },
    {
     "name": "stdout",
     "output_type": "stream",
     "text": [
      "JSON parsing failed: Expecting value: line 1 column 10216 (char 10215)\n",
      "Attempting to evaluate as Python literal...\n",
      "Python literal evaluation failed: '{' was never closed (<string>, line 1)\n",
      "Error generating graph: Failed to parse graph string: '{' was never closed (<string>, line 1)\n",
      "Neuroplasticity\n"
     ]
    },
    {
     "name": "stderr",
     "output_type": "stream",
     "text": [
      " 20%|██        | 6/30 [00:54<04:31, 11.33s/it]"
     ]
    },
    {
     "name": "stdout",
     "output_type": "stream",
     "text": [
      "JSON parsing failed: Unterminated string starting at: line 1 column 10271 (char 10270)\n",
      "Attempting to evaluate as Python literal...\n",
      "Python literal evaluation failed: unterminated string literal (detected at line 1) (<string>, line 1)\n",
      "Error generating graph: Failed to parse graph string: unterminated string literal (detected at line 1) (<string>, line 1)\n",
      "Synaptic pruning\n"
     ]
    },
    {
     "name": "stderr",
     "output_type": "stream",
     "text": [
      " 33%|███▎      | 10/30 [01:22<03:01,  9.07s/it]"
     ]
    },
    {
     "name": "stdout",
     "output_type": "stream",
     "text": [
      "JSON parsing failed: Expecting property name enclosed in double quotes: line 206 column 30 (char 8725)\n",
      "Attempting to evaluate as Python literal...\n",
      "Python literal evaluation failed: '{' was never closed (<string>, line 206)\n",
      "Error generating graph: Failed to parse graph string: '{' was never closed (<string>, line 206)\n",
      "Inhibitory control\n"
     ]
    },
    {
     "name": "stderr",
     "output_type": "stream",
     "text": [
      " 73%|███████▎  | 22/30 [02:48<01:10,  8.80s/it]"
     ]
    },
    {
     "name": "stdout",
     "output_type": "stream",
     "text": [
      "JSON parsing failed: Unterminated string starting at: line 1 column 10170 (char 10169)\n",
      "Attempting to evaluate as Python literal...\n",
      "Python literal evaluation failed: unterminated string literal (detected at line 1) (<string>, line 1)\n",
      "Error generating graph: Failed to parse graph string: unterminated string literal (detected at line 1) (<string>, line 1)\n",
      "Prefrontal cortex\n"
     ]
    },
    {
     "name": "stderr",
     "output_type": "stream",
     "text": [
      " 80%|████████  | 24/30 [03:12<01:03, 10.52s/it]"
     ]
    },
    {
     "name": "stdout",
     "output_type": "stream",
     "text": [
      "JSON parsing failed: Unterminated string starting at: line 1 column 9584 (char 9583)\n",
      "Attempting to evaluate as Python literal...\n",
      "Python literal evaluation failed: unterminated string literal (detected at line 1) (<string>, line 1)\n",
      "Error generating graph: Failed to parse graph string: unterminated string literal (detected at line 1) (<string>, line 1)\n",
      "Amygdala\n"
     ]
    },
    {
     "name": "stderr",
     "output_type": "stream",
     "text": [
      " 83%|████████▎ | 25/30 [03:26<00:58, 11.63s/it]"
     ]
    },
    {
     "name": "stdout",
     "output_type": "stream",
     "text": [
      "JSON parsing failed: Unterminated string starting at: line 1 column 10376 (char 10375)\n",
      "Attempting to evaluate as Python literal...\n",
      "Python literal evaluation failed: unterminated string literal (detected at line 1) (<string>, line 1)\n",
      "Error generating graph: Failed to parse graph string: unterminated string literal (detected at line 1) (<string>, line 1)\n",
      "Neurotransmitters\n"
     ]
    },
    {
     "name": "stderr",
     "output_type": "stream",
     "text": [
      " 87%|████████▋ | 26/30 [03:40<00:49, 12.38s/it]"
     ]
    },
    {
     "name": "stdout",
     "output_type": "stream",
     "text": [
      "JSON parsing failed: Unterminated string starting at: line 1 column 10283 (char 10282)\n",
      "Attempting to evaluate as Python literal...\n",
      "Python literal evaluation failed: unterminated string literal (detected at line 1) (<string>, line 1)\n",
      "Error generating graph: Failed to parse graph string: unterminated string literal (detected at line 1) (<string>, line 1)\n",
      "Dopamine\n"
     ]
    },
    {
     "name": "stderr",
     "output_type": "stream",
     "text": [
      " 93%|█████████▎| 28/30 [03:59<00:22, 11.31s/it]"
     ]
    },
    {
     "name": "stdout",
     "output_type": "stream",
     "text": [
      "JSON parsing failed: Unterminated string starting at: line 1 column 9389 (char 9388)\n",
      "Attempting to evaluate as Python literal...\n",
      "Python literal evaluation failed: unterminated string literal (detected at line 1) (<string>, line 1)\n",
      "Error generating graph: Failed to parse graph string: unterminated string literal (detected at line 1) (<string>, line 1)\n",
      "EEG\n"
     ]
    },
    {
     "name": "stderr",
     "output_type": "stream",
     "text": [
      "100%|██████████| 30/30 [04:09<00:00,  8.32s/it]\n"
     ]
    }
   ],
   "source": [
    "graphs_dict = {}\n",
    "for concept in tqdm(concepts):\n",
    "    try:\n",
    "        graph = generator.generate_graph(\n",
    "            query=f\"Generate a causal graph about the concept: {concept}\",\n",
    "            depth=10\n",
    "        )\n",
    "\n",
    "        graphs_dict[concept] = graph\n",
    "    except:\n",
    "        print(concept)\n",
    "        continue"
   ]
  },
  {
   "cell_type": "code",
   "execution_count": null,
   "metadata": {},
   "outputs": [],
   "source": [
    "for key,graph in graphs_dict.items():\n",
    "    generator.save_graph(graph, path='../data/graphs/cognitive_science_graphs/', name=key.replace(' ', '_'))"
   ]
  }
 ],
 "metadata": {
  "kernelspec": {
   "display_name": "graph_merging",
   "language": "python",
   "name": "python3"
  },
  "language_info": {
   "codemirror_mode": {
    "name": "ipython",
    "version": 3
   },
   "file_extension": ".py",
   "mimetype": "text/x-python",
   "name": "python",
   "nbconvert_exporter": "python",
   "pygments_lexer": "ipython3",
   "version": "3.10.16"
  }
 },
 "nbformat": 4,
 "nbformat_minor": 2
}
