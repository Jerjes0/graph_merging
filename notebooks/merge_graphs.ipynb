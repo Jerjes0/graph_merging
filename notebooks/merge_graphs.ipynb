{
 "cells": [
  {
   "cell_type": "code",
   "execution_count": 34,
   "metadata": {},
   "outputs": [],
   "source": [
    "import os\n",
    "import numpy as np\n",
    "import pandas as pd\n",
    "import networkx as nx\n",
    "import matplotlib.pyplot as plt\n",
    "import seaborn as sns\n",
    "from tqdm import tqdm\n",
    "# Set random seed for reproducibility\n",
    "np.random.seed(42)\n",
    "\n",
    "import sys\n",
    "sys.path.append('..')  \n",
    "from src.dummy_data import DataGenerator\n",
    "from src.merging.merge_causal_graph import CausalGraph\n",
    "\n",
    "import pprint\n",
    "import json"
   ]
  },
  {
   "cell_type": "code",
   "execution_count": 32,
   "metadata": {},
   "outputs": [],
   "source": [
    "# def convert_graph_to_relation_matrix(graph):\n",
    "#     nodes = list(graph.keys())\n",
    "#     relation_matrix = {}\n",
    "\n",
    "#     for i in nodes:\n",
    "#         relation_matrix[i] = {}\n",
    "#         for j in nodes:\n",
    "#             if i == j:\n",
    "#                 continue\n",
    "#             if j in graph[i][\"children\"]:\n",
    "#                 relation_matrix[i][j] = {\n",
    "#                     \"isChild\": 1,\n",
    "#                     \"isParent\": 0,\n",
    "#                     \"noRelation\": 0\n",
    "#                 }\n",
    "#             elif i in graph[j][\"children\"]:\n",
    "#                 relation_matrix[i][j] = {\n",
    "#                     \"isChild\": 0,\n",
    "#                     \"isParent\": 1,\n",
    "#                     \"noRelation\": 0\n",
    "#                 }\n",
    "#             else:\n",
    "#                 relation_matrix[i][j] = {\n",
    "#                     \"isChild\": 0,\n",
    "#                     \"isParent\": 0,\n",
    "#                     \"noRelation\": 1\n",
    "#                 }\n",
    "\n",
    "#     return relation_matrix"
   ]
  },
  {
   "cell_type": "code",
   "execution_count": 31,
   "metadata": {},
   "outputs": [],
   "source": [
    "# os.mkdir('../data/graphs/covid_graph_formatted/')"
   ]
  },
  {
   "cell_type": "code",
   "execution_count": 35,
   "metadata": {},
   "outputs": [],
   "source": [
    "# path_to_data = '../data/graphs/covid_graph/'\n",
    "# data_list = os.listdir(path_to_data)\n",
    "# for data in data_list:\n",
    "#     graph = pd.read_json(path_to_data + data).to_dict()\n",
    "#     formatted_graph = convert_graph_to_relation_matrix(graph)\n",
    "#     with open(f'../data/graphs/covid_graph_formatted/{data}', 'w') as file:\n",
    "#         json.dump(formatted_graph, file, indent=4)\n",
    "    "
   ]
  },
  {
   "cell_type": "code",
   "execution_count": 39,
   "metadata": {},
   "outputs": [],
   "source": [
    "path_to_data = '../data/graphs/covid_graph_formatted/'\n",
    "data_list = os.listdir(path_to_data)\n",
    "for i, data in enumerate(data_list):\n",
    "    if i == 0:\n",
    "        merged_graph = CausalGraph(path_to_data + data)\n",
    "    else:\n",
    "        graph = CausalGraph(path_to_data + data)\n",
    "        merged_graph.merge(graph)\n",
    "merged_graph.save(path_to_data + 'merged_graph.json')\n",
    "    "
   ]
  },
  {
   "cell_type": "code",
   "execution_count": null,
   "metadata": {},
   "outputs": [],
   "source": []
  }
 ],
 "metadata": {
  "kernelspec": {
   "display_name": "graph_merging",
   "language": "python",
   "name": "python3"
  },
  "language_info": {
   "codemirror_mode": {
    "name": "ipython",
    "version": 3
   },
   "file_extension": ".py",
   "mimetype": "text/x-python",
   "name": "python",
   "nbconvert_exporter": "python",
   "pygments_lexer": "ipython3",
   "version": "3.10.16"
  }
 },
 "nbformat": 4,
 "nbformat_minor": 2
}
